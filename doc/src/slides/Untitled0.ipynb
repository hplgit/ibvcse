{
 "metadata": {
  "name": ""
 },
 "nbformat": 3,
 "nbformat_minor": 0,
 "worksheets": [
  {
   "cells": [
    {
     "cell_type": "code",
     "collapsed": false,
     "input": [
      "\"\"\"\n",
      "Demonstrate the mixing of 2d and 3d subplots\n",
      "\"\"\"\n",
      "from mpl_toolkits.mplot3d import Axes3D\n",
      "import matplotlib.pyplot as plt\n",
      "import numpy as np\n",
      "\n",
      "def f(t):\n",
      "    s1 = np.cos(2*np.pi*t)\n",
      "    e1 = np.exp(-t)\n",
      "    return np.multiply(s1,e1)\n",
      "\n",
      "\n",
      "################\n",
      "# First subplot\n",
      "################\n",
      "t1 = np.arange(0.0, 5.0, 0.1)\n",
      "t2 = np.arange(0.0, 5.0, 0.02)\n",
      "t3 = np.arange(0.0, 2.0, 0.01)\n",
      "\n",
      "# Twice as tall as it is wide.\n",
      "fig = plt.figure(figsize=plt.figaspect(2.))\n",
      "fig.suptitle('A tale of 2 subplots')\n",
      "ax = fig.add_subplot(2, 1, 1)\n",
      "l = ax.plot(t1, f(t1), 'bo', \n",
      "            t2, f(t2), 'k--', markerfacecolor='green')\n",
      "ax.grid(True)\n",
      "ax.set_ylabel('Damped oscillation')\n",
      "\n",
      "\n",
      "#################\n",
      "# Second subplot\n",
      "#################\n",
      "ax = fig.add_subplot(2, 1, 2, projection='3d')\n",
      "X = np.arange(-5, 5, 0.25)\n",
      "xlen = len(X)\n",
      "Y = np.arange(-5, 5, 0.25)\n",
      "ylen = len(Y)\n",
      "X, Y = np.meshgrid(X, Y)\n",
      "R = np.sqrt(X**2 + Y**2)\n",
      "Z = np.sin(R)\n",
      "\n",
      "surf = ax.plot_surface(X, Y, Z, rstride=1, cstride=1,\n",
      "        linewidth=0, antialiased=False)\n",
      "\n",
      "ax.set_zlim3d(-1, 1)\n",
      "\n",
      "plt.show()"
     ],
     "language": "python",
     "metadata": {},
     "outputs": [],
     "prompt_number": "*"
    },
    {
     "cell_type": "code",
     "collapsed": false,
     "input": [],
     "language": "python",
     "metadata": {},
     "outputs": []
    }
   ],
   "metadata": {}
  }
 ]
}