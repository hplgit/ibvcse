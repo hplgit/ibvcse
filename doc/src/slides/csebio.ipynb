{
 "metadata": {},
 "nbformat": 3,
 "nbformat_minor": 0,
 "worksheets": [
  {
   "cells": [
    {
     "cell_type": "markdown",
     "metadata": {},
     "source": [
      "<!-- Slides for FYS-KJM4480 -->\n",
      "# Integrating computations, mathematics, physics and chemistry in undergraduate biology programs\n",
      "**October 12 2014**\n",
      "\n",
      "### Overarching questions\n",
      "\n",
      "* What kind of education do we want to give our undergraduate students and which skills are needed by biology students? \n",
      "\n",
      "* Can we integrate programming, computations, mathematics and topics from physical sciences like physics and chemistry, in a seamless way in the basic biology (including all subdisciplines at IBV) education? \n",
      "\n",
      "* Do we need to teach mathematics, physics, computations, chemistry etc as separate topics/courses, often totally disconnected from the interests and the needs of biology students and their teachers? \n",
      "\n",
      "* Can we teach these topics in such a way that we can develop a better intuition and understanding of say computations and mathematics? And topics from other disciplines as well.\n",
      "\n",
      "* Would a problem based education suit better the needs of undergraduate programs in biology?\n",
      "\n",
      "* Would it be appropriate to  simply label all courses the first two-years of study as BIO-xxx?  \n",
      "\n",
      "* Can this serve as a model for other undergraduate programs as well?\n",
      "\n",
      "\n",
      "\n",
      "\n",
      "### Possible pilot project\n",
      "\n",
      "* Set up a team of dedicated teachers (biology and CSE oriented people from other disciplines) and PhD, MSc and undergraduate students that will develop examples of topics to integrate  in biology courses.  \n",
      "\n",
      "* The recently established CINPLA@IBV project (Endringsmiljoe at MN@UiO) has hired four PhD students for four years. These PhD students can as part of their teaching duties develop several examples for biology courses  that integrate math and computations.  \n",
      "\n",
      "* The PhD students can form the hard core of the working group, in close collaboration with teachers from IBV and other CSE teachers and MSc and undergraduate students supported by the CSE project.\n",
      "\n",
      "* The duration of the project could be one year, with the final aim to develop a series of cases to present at an education workshop at IBV.\n",
      "\n",
      "* These cases will form the basis for a workshop next year for teachers at IBV, with an emphasis on integrating computations and math. \n",
      "\n",
      "* The exit of this workshop can pave the road for step two, namely developing undergraduate modules that integrate several disciplines in biology courses. \n",
      "\n",
      "* Time-line: one to two years to develop the first integrated pilot.\n",
      "\n",
      "\n",
      "\n",
      "\n",
      "\n",
      "\n",
      "<!-- !split  -->\n",
      "### Develop a PBL based first year in Biology\n",
      "**Aim: introduce the relevant mathematics and computations in order to develop student intuition about the scientific method.**\n",
      "\n",
      "\n",
      "* A typical situation is that math courses are taught as separate courses. After some few preliminary words about the relevance and possible examples, the main emphasis is on the mathematical properties of the equations, their solutions, uniqueness etc etc. \n",
      "\n",
      "* This may be  disconnected from the background and interests of students in a specific undergraduate program\n",
      "\n",
      "* Similarly, topics like writing a program, reading data from file, plotting etc are normally taught in a disconnected course on programming. This would apply to basic physics and chemistry courses as well. \n",
      "\n",
      "* How can we change this?\n",
      "\n",
      "* Integrate mathematics, computations and other disciplines in biology courses. The mathematical models, relevant physics/chemistry and other topics are introduced in a coherent way in biology courses.\n",
      "\n",
      "\n",
      "\n",
      "\n",
      "<!-- !split  -->\n",
      "### Examples: *Predator-Prey* model\n",
      "**Lotka-Volterra model and data from Hudson bay.**\n",
      "\n",
      "The population dynamics of a simple predator-prey system  is a classical example shown in many biology textbooks when ecological systems are discussed. The system contains all elements of the scientific method, starting with an emphasis on\n",
      "\n",
      " * The set up of a specific hypothesis combined with\n",
      "\n",
      " * the experimental methods needed (one can study existing data or perform experiments),\n",
      "\n",
      " * analyzing and interpreting the data and performing further experiments if needed\n",
      "\n",
      " * trying to extract general behaviors and extract eventual laws or patterns. \n",
      "\n",
      " * develop eventual mathematical relations for the uncovered regularities/laws and test these by performing new experiments\n",
      "\n",
      "\n",
      "\n",
      "\n",
      "<!-- !split  -->\n",
      "### Examples: Simple *Predator-Prey* model\n",
      "**Lotka-Volterra model and data from Hudson bay.**\n",
      "\n",
      "\n",
      " * In this example we start with the data on hares and lynx collected from furs in Canada. The data show distinct oscillations.\n",
      "\n",
      " * The first step in the scientific investigation is thus to plot these data, introducing thereby simple programming issues like what is a file, how do I read from a file and how do I plot the data. When analyzing these data from a biological standpoint one can then integrate the first steps in programming. \n",
      "\n",
      " * The next step is to try to model these data by simple finite difference equations. These equations provide an intuitive way to introduce the relevant mathematics. At later stages one can replace these difference equations with differential equations if appropriate and pedagogical relevant. \n",
      "\n",
      " * The equations will also contain parameters which can fitted using the available data. At a later stage one can introduce tools like least-square fitting (this can come later) and let the students write a program which implements this. The necessary understanding of the pertinent statistical analysis and mathematics can then be introduced. \n",
      "\n",
      " * This model can then be extended to models for the spread of diseases. \n",
      "\n",
      " * And obviously, can the model which has been developed be applied to other predator-prey systems?\n",
      "\n",
      "With these steps one can then encompass significant elements of the scientific method at a very early stage in the educational ladder (first year), bringing in elements from computations, mathematics and statistics  in a natural and problem-based way.\n",
      "\n",
      "\n",
      "\n",
      "\n",
      "\n",
      "\n",
      "\n",
      "### Hudson bay data\n",
      "\n",
      "**First step: the data.**\n",
      "\n",
      "\n",
      "Most mammalian predators rely on a variety of prey, which complicates mathematical modeling; however, a few predators have become highly specialized and seek almost exclusively a single prey species. An example of this simplified predator-prey interaction is seen in Canadian northern forests, where the populations of the lynx and the snowshoe hare are intertwined in a life and death struggle.\n",
      "\n",
      "One reason that this particular system has been so extensively studied is that the Hudson Bay company kept careful records of all furs from the early 1800s into the 1900s. The records for the furs collected by the Hudson Bay company showed distinct oscillations (approximately 12 year periods), suggesting that these species caused almost periodic fluctuations of each other's populations. The table here shows data from 1900 to 1920. \n",
      "\n",
      "<table border=\"1\">\n",
      "<thead>\n",
      "<tr><th align=\"center\">Year</th> <th align=\"center\">Hares (x1000)</th> <th align=\"center\">Lynx (x1000)</th> </tr>\n",
      "</thead>\n",
      "<tbody>\n",
      "<tr><td align=\"left\">   1900    </td> <td align=\"right\">   30.0             </td> <td align=\"right\">   4.0             </td> </tr>\n",
      "<tr><td align=\"left\">   1901    </td> <td align=\"right\">   47.2             </td> <td align=\"right\">   6.1             </td> </tr>\n",
      "<tr><td align=\"left\">   1902    </td> <td align=\"right\">   70.2             </td> <td align=\"right\">   9.8             </td> </tr>\n",
      "<tr><td align=\"left\">   1903    </td> <td align=\"right\">   77.4             </td> <td align=\"right\">   35.2            </td> </tr>\n",
      "<tr><td align=\"left\">   1904    </td> <td align=\"right\">   36.3             </td> <td align=\"right\">   59.4            </td> </tr>\n",
      "<tr><td align=\"left\">   1905    </td> <td align=\"right\">   20.6             </td> <td align=\"right\">   41.7            </td> </tr>\n",
      "<tr><td align=\"left\">   1906    </td> <td align=\"right\">   18.1             </td> <td align=\"right\">   19.0            </td> </tr>\n",
      "<tr><td align=\"left\">   1907    </td> <td align=\"right\">   21.4             </td> <td align=\"right\">   13.0            </td> </tr>\n",
      "<tr><td align=\"left\">   1908    </td> <td align=\"right\">   22.0             </td> <td align=\"right\">   8.3             </td> </tr>\n",
      "<tr><td align=\"left\">   1909    </td> <td align=\"right\">   25.4             </td> <td align=\"right\">   9.1             </td> </tr>\n",
      "<tr><td align=\"left\">   1910    </td> <td align=\"right\">   27.1             </td> <td align=\"right\">   7.4             </td> </tr>\n",
      "<tr><td align=\"left\">   1911    </td> <td align=\"right\">   40.3             </td> <td align=\"right\">   8.0             </td> </tr>\n",
      "<tr><td align=\"left\">   1912    </td> <td align=\"right\">   57               </td> <td align=\"right\">   12.3            </td> </tr>\n",
      "<tr><td align=\"left\">   1913    </td> <td align=\"right\">   76.6             </td> <td align=\"right\">   19.5            </td> </tr>\n",
      "<tr><td align=\"left\">   1914    </td> <td align=\"right\">   52.3             </td> <td align=\"right\">   45.7            </td> </tr>\n",
      "<tr><td align=\"left\">   1915    </td> <td align=\"right\">   19.5             </td> <td align=\"right\">   51.1            </td> </tr>\n",
      "<tr><td align=\"left\">   1916    </td> <td align=\"right\">   11.2             </td> <td align=\"right\">   29.7            </td> </tr>\n",
      "<tr><td align=\"left\">   1917    </td> <td align=\"right\">   7.6              </td> <td align=\"right\">   15.8            </td> </tr>\n",
      "<tr><td align=\"left\">   1918    </td> <td align=\"right\">   14.6             </td> <td align=\"right\">   9.7             </td> </tr>\n",
      "<tr><td align=\"left\">   1919    </td> <td align=\"right\">   16.2             </td> <td align=\"right\">   10.1            </td> </tr>\n",
      "<tr><td align=\"left\">   1920    </td> <td align=\"right\">   24.7             </td> <td align=\"right\">   8.6             </td> </tr>\n",
      "</tbody>\n",
      "</table>\n",
      "\n",
      "\n",
      "\n",
      "\n",
      "<!-- !split  -->\n",
      "### Example of possible cases, *Predator-Prey* model\n",
      "The first step is to \n",
      "\n",
      "* make a file which contains the data, with columns containing year and data on hares and lynx. This will teach students the concept of a file and introduce practicalities like using terminals and editors.\n",
      "\n",
      " * The next step is to teach the first basic programming elements, including topics like understanding what a program is, how to define files, reading from file and plotting and similar operations.  The aim is to be able to read the above data and plot them, exemplified here in a simple python (we recommend python as the programming language) program. The program uses the *matplotlib* package."
     ]
    },
    {
     "cell_type": "code",
     "collapsed": false,
     "input": [
      "from numpy import *\n",
      "from pylab import *\n",
      "from  matplotlib import pyplot as plt\n",
      "from matplotlib import rc, rcParams\n",
      "import matplotlib.units as units\n",
      "import matplotlib.ticker as ticker\n",
      "import sys\n",
      "import os\n",
      "import numpy as np\n",
      "\n",
      "rc('text',usetex=True)\n",
      "title(r'{\\bf Population of hares and lynx from 1900 to 1920 (x1000)}', fontsize=20)     \n",
      "# Load in data file\n",
      "popdata = loadtxt(\"popdata.dat\")\n",
      "# Make arrays containing x-axis and hares and lynx populations\n",
      "year = popdata[:,0]\n",
      "hares = popdata[:,1]\n",
      "lynx = popdata[:,2]  \n",
      "axis([1895,1925,0, 100.0])\n",
      "# Put lables on axes\n",
      "xlabel(r'Year',fontsize=20)\n",
      "ylabel(r'Numbers of hares and lynx ',fontsize=20)\n",
      "# Then plot\n",
      "plt.plot(year, hares ,'b-*',   year, lynx, 'r:.',  markersize=7)\n",
      "legend(('Hares','Lynx'),\n",
      "           'upper right', shadow=False, fancybox=False,prop={\"size\":18})\n",
      "legend(loc='upper right')\n",
      "savefig('popdata.pdf', format='pdf')\n",
      "\n",
      "plt.show()\n"
     ],
     "language": "python",
     "metadata": {},
     "outputs": [],
     "prompt_number": 1
    },
    {
     "cell_type": "markdown",
     "metadata": {},
     "source": [
      "A very useful addendum here is to provide the students with information on how to use *ipython notebook*. Handing material in this format, will allow students to make their own electronic notebooks, change the text, add, improve upon, do exercises etc etc.\n",
      "\n",
      "\n",
      "\n",
      "### Hares and lynx in Hudson bay from 1900 to 1920\n",
      "\n",
      "\n",
      "<p></p>\n",
      "<img src=\"popdata.pdf\" width=500>\n",
      "\n",
      "\n",
      "\n",
      "\n",
      "<!-- !split  -->\n",
      "### Example of possible cases, *Predator-Prey* model\n",
      "We see from the plot that there are indeed fluctuations. \n",
      "\n",
      "We would like to create a mathematical model that explains these population fluctuations. Ecologists have predicted that in a simple predator-prey system that a rise in prey population is followed (with a lag) by a rise in the predator population. When the predator population is sufficiently high, then the prey population begins dropping. After the prey population falls, then the predator population falls, which allows the prey population to recover and completes one cycle of this interaction. Thus, we see that qualitatively oscillations occur. Can a mathematical model predict this? What causes cycles to slow or speed up? What affects the amplitude of the oscillation or do you expect to see the oscillations damp to a stable equilibrium? The models tend to ignore factors like climate and other complicating factors. How significant are these?   \n",
      "\n",
      "* The top-down approach would be to present the Lotka-Volterra equation and discuss how to solve it. The equation expresses the population changes through time according to the pair of equations:"
     ]
    },
    {
     "cell_type": "markdown",
     "metadata": {},
     "source": [
      "$$\n",
      "\\frac{dx}{dt} = x(\\alpha - \\beta y)\\\\\n",
      "\\frac{dy}{dt} = - y(\\gamma - \\delta  x)\n",
      "$$"
     ]
    },
    {
     "cell_type": "markdown",
     "metadata": {},
     "source": [
      "* Here $x$ is the number of preys and $y$ the number of predators. The other variables describe the interactions between the two species.\n",
      "\n",
      "* The rates $dx/dt$ and $dy/dt$ represent the growth rates over time.\n",
      "\n",
      "* The equation is then used to link mathematical modeling with   experimental data, here  hares and lynx in Canada.\n",
      "\n",
      "\n",
      "\n",
      "\n",
      "<!-- !split  -->\n",
      "### Example of possible cases, *Predator-Prey* model, the bottom-up approach\n",
      "* The bottom-up approach: start with experimental data and discuss the methods which have been used to collect the data, the assumptions, the aims etc. That is, expose the students to the theory and assumptions   behind the data that have been collected and motivate for the scientific method. \n",
      "\n",
      "* Where appropriate the students should do the experiment(s) needed to collect the data.\n",
      "\n",
      "* The first programming tasks would then be taught together with the data collection process, with an emphasis on reading and writing data to/from file and making plots of the data.\n",
      "\n",
      "* The students can then be triggered to see if they can discover patterns or regularities. This strengthens a research-driven intuition about the scientific method and specific systems.\n",
      "\n",
      "\n",
      "\n",
      "\n",
      "<!-- !split  -->\n",
      "### Example of possible cases, *Predator-Prey* model, the bottom-up approach\n",
      "* After the first programming experience with reading and writing to/from file and plotting data, it is time to start modeling the data.\n",
      "\n",
      "* The simplest possibility is to forward a hypothesis based on changes in time of the populations, setting the problem up  as  simple and intuitive difference equations.\n",
      "\n",
      "* We introduce also the concept of a function of time. Here we label the number of hares as function of time as $H(t)$ and the number of lynx as $L(t)$. \n",
      "\n",
      "* The change in the population of hares from year $t$ to a year $t+\\Delta t$ (where $\\Delta t$ is the change) is then given by"
     ]
    },
    {
     "cell_type": "markdown",
     "metadata": {},
     "source": [
      "$$\n",
      "H(t+\\Delta t)-H(t),\n",
      "$$"
     ]
    },
    {
     "cell_type": "markdown",
     "metadata": {},
     "source": [
      "The rate by which this quantity changes as function of time is then simply given by the change in hares divided by the change in time, that is we have"
     ]
    },
    {
     "cell_type": "markdown",
     "metadata": {},
     "source": [
      "$$\n",
      "\\frac{H(t+\\Delta t)-H(t)}{\\Delta t}.\n",
      "$$"
     ]
    },
    {
     "cell_type": "markdown",
     "metadata": {},
     "source": [
      "We have a similar equation for the number of lynx, namely"
     ]
    },
    {
     "cell_type": "markdown",
     "metadata": {},
     "source": [
      "$$\n",
      "\\frac{L(t+\\Delta t)-L(t)}{\\Delta t}.\n",
      "$$"
     ]
    },
    {
     "cell_type": "markdown",
     "metadata": {},
     "source": [
      "<!-- !split  -->\n",
      "### Example of possible cases, *Predator-Prey* model, the bottom-up approach\n",
      "**Analysis stage.**\n",
      "\n",
      "With the rates by which the populations of hares and lynx change, we can now start modeling their interactions.\n",
      "\n",
      "* We need to define the  so-called initial values (initial conditions), that is, if we use the year 1900 as year zero, we have from the above table"
     ]
    },
    {
     "cell_type": "markdown",
     "metadata": {},
     "source": [
      "$$\n",
      "H(t=0) =  30,\n",
      "$$"
     ]
    },
    {
     "cell_type": "markdown",
     "metadata": {},
     "source": [
      "and"
     ]
    },
    {
     "cell_type": "markdown",
     "metadata": {},
     "source": [
      "$$\n",
      "L(t=0) =  4.\n",
      "$$"
     ]
    },
    {
     "cell_type": "markdown",
     "metadata": {},
     "source": [
      "We assume that the rate of change in a population is equal to the net increase (births) into the population minus the net decrease (deaths) of the population.\n",
      "In making our model, we assume that the hares grow in proportion to their own population, that is, without lynx we can assume that"
     ]
    },
    {
     "cell_type": "markdown",
     "metadata": {},
     "source": [
      "$$\n",
      "\\frac{H(t+\\Delta t)-H(t)}{\\Delta t}=\\alpha H(t),\n",
      "$$"
     ]
    },
    {
     "cell_type": "markdown",
     "metadata": {},
     "source": [
      "where $\\alpha$ is a constant to be determined. \n",
      "We assume then that the primary loss of hares is due to predation by lynx. We model the latter as an interaction between hares and lynx by adding  a negative term"
     ]
    },
    {
     "cell_type": "markdown",
     "metadata": {},
     "source": [
      "$$\n",
      "\\frac{H(t+\\Delta t)-H(t)}{\\Delta t}=\\alpha H(t)-\\beta H(t)L(t),\n",
      "$$"
     ]
    },
    {
     "cell_type": "markdown",
     "metadata": {},
     "source": [
      "where $\\beta$ is another constant to be determined.\n",
      "\n",
      "\n",
      "\n",
      "\n",
      "<!-- !split  -->\n",
      "### Example of possible cases, *Predator-Prey* model, the bottom-up approach\n",
      "\n",
      "For the time development of the lynx population, we assume that the primary growth for the lynx population depends on sufficient food for raising lynx kittens, which implies an adequate source of nutrients from predation on hares. Thus, the growth of the lynx population is similar to the death rate for the hare population with a different constant of proportionality. We model this as an interaction between hares and lynx as"
     ]
    },
    {
     "cell_type": "markdown",
     "metadata": {},
     "source": [
      "$$\n",
      "\\frac{L(t+\\Delta t)-L(t)}{\\Delta t}=\\gamma L(t)H(t),\n",
      "$$"
     ]
    },
    {
     "cell_type": "markdown",
     "metadata": {},
     "source": [
      "where $\\gamma$ is a constant to be determined. \n",
      "We assume that the primary loss of lynx is due to declines in their own population, leading then to the following growth rate"
     ]
    },
    {
     "cell_type": "markdown",
     "metadata": {},
     "source": [
      "$$\n",
      "\\frac{L(t+\\Delta t)-L(t)}{\\Delta t}=\\gamma L(t)H(t)-\\delta L(t),\n",
      "$$"
     ]
    },
    {
     "cell_type": "markdown",
     "metadata": {},
     "source": [
      "with $\\delta$ being another constant to be determined.\n",
      "\n",
      "\n",
      "\n",
      "\n",
      "<!-- !split  -->\n",
      "### Example of possible cases, *Predator-Prey* model, the bottom-up approach\n",
      "\n",
      "In summary we have the initial conditions"
     ]
    },
    {
     "cell_type": "markdown",
     "metadata": {},
     "source": [
      "$$\n",
      "H(t=0) =  30,\n",
      "$$"
     ]
    },
    {
     "cell_type": "markdown",
     "metadata": {},
     "source": [
      "and"
     ]
    },
    {
     "cell_type": "markdown",
     "metadata": {},
     "source": [
      "$$\n",
      "L(t=0) =  4,\n",
      "$$"
     ]
    },
    {
     "cell_type": "markdown",
     "metadata": {},
     "source": [
      "and the following two coupled equations"
     ]
    },
    {
     "cell_type": "markdown",
     "metadata": {},
     "source": [
      "$$\n",
      "\\frac{H(t+\\Delta t)-H(t)}{\\Delta t}=\\alpha H(t)-\\beta H(t)L(t),\n",
      "$$"
     ]
    },
    {
     "cell_type": "markdown",
     "metadata": {},
     "source": [
      "and"
     ]
    },
    {
     "cell_type": "markdown",
     "metadata": {},
     "source": [
      "$$\n",
      "\\frac{L(t+\\Delta t)-L(t)}{\\Delta t}=\\gamma L(t)H(t)-\\delta L(t).\n",
      "$$"
     ]
    },
    {
     "cell_type": "markdown",
     "metadata": {},
     "source": [
      "These equations have four parameters $\\alpha\\beta\\gamma\\delta$ which encompass complicated dynamics between the species and the environment. In the first stage, the students should be given values for these parameters, with an explanation that at a later \n",
      "stage we will show them how to determine these parameters.\n",
      "\n",
      "\n",
      "\n",
      "\n",
      "<!-- !split  -->\n",
      "### Example of possible cases, *Predator-Prey* model, the bottom-up approach\n",
      "\n",
      "* The next step is to write a program which, with the given initial conditions, solves these two equations from an initial time\n",
      "\n",
      "$t_0$ to a given final time. \n",
      "\n",
      "* Since data are given in terms of years, this means that the first approach should have $\\Delta t=1$ yr in"
     ]
    },
    {
     "cell_type": "markdown",
     "metadata": {},
     "source": [
      "$$\n",
      "\\frac{H(t+\\Delta t)-H(t)}{\\Delta t}=\\alpha H(t)-\\beta H(t)L(t),\n",
      "$$"
     ]
    },
    {
     "cell_type": "markdown",
     "metadata": {},
     "source": [
      "and"
     ]
    },
    {
     "cell_type": "markdown",
     "metadata": {},
     "source": [
      "$$\n",
      "\\frac{L(t+\\Delta t)-L(t)}{\\Delta t}=\\gamma L(t)H(t)-\\delta L(t).\n",
      "$$"
     ]
    },
    {
     "cell_type": "markdown",
     "metadata": {},
     "source": [
      "In this model, the students could try to solve these equations by using 1900 as starting year and 1920 as the final year. \n",
      "\n",
      "* The program will be rather simple but contains important elements like function constructions, loops, if statements and the definition of one-dimensional arrays which contain the solutions as function of time. \n",
      "\n",
      "* With the first project where students are asked to make a file containing the data and plot them, the next project is actually to write a program with the above elements and test the model against data.\n",
      "\n",
      "\n",
      "\n",
      "\n",
      "<!-- !split  -->\n",
      "### Example of possible cases, *Predator-Prey* model\n",
      "**The code.**\n",
      "\n",
      "If we perform a least-square fitting, we can find optimal values for the parameters $\\alpha\\beta\\gamma\\delta$. Here we will simply use these parameters and write a simple program which solves the two equations. The optimal parameters are $\\alpha=0.4807$, $\\beta=0.02482$, $\\gamma=0.9272$ and $\\delta=0.02756$. These parameters result in aslightly modified initial conditions, namely $H(0) = 34.91$ and $L(0)=3.857$. With these parameters we are now ready to solve the equations and plot these data together with the 'experimental' values."
     ]
    },
    {
     "cell_type": "code",
     "collapsed": false,
     "input": [
      "from numpy import *\n",
      "from pylab import *\n",
      "from  matplotlib import pyplot as plt\n",
      "from matplotlib import rc, rcParams\n",
      "import matplotlib.units as units\n",
      "import matplotlib.ticker as ticker\n",
      "import sys\n",
      "import os\n",
      "\n",
      "\n",
      "# Define function to solve the difference equations\n",
      "def SolveEquations(year, NumHares, NumLynx, InitialTime, FinalTime, n):\n",
      "#   Hardcoding of least-square optimized parameters\n",
      "    a, b, c, d = 0.4807, 0.02482, 0.9272, 0.02756\n",
      "#   Step size, redundant here  since step is equal to 1 yr      \n",
      "#    h = (FinalTime-InitialTime)/n\n",
      "#   Solve the difference equations (no time step here)\n",
      "    for i in range(1, n):\n",
      "        NumHares[i] = NumHares[i-1]+a*NumHares[i-1]-b*NumHares[i-1]*NumLynx[i-1]\n",
      "        NumLynx[i] = NumLynx[i-1]-c*NumLynx[i-1]+d*NumHares[i-1]*NumLynx[i-1]\n",
      "        print \"%6.3f %6.3f %6.3f\" % (year[i],NumHares[i],NumLynx[i])\n",
      "\n",
      "\n",
      "# we read the data needed to plot the experimental values\n",
      "rc('text',usetex=True)\n",
      "title(r'{\\bf Population of hares and lynx from 1900 to 1920 (x1000)}', fontsize=20)     \n",
      "# Load in data file\n",
      "popdata = loadtxt(\"popdata.dat\")\n",
      "# Make arrays containing x-axis and hares and lynx populations\n",
      "year = popdata[:,0]\n",
      "hares = popdata[:,1]\n",
      "lynx = popdata[:,2]  \n",
      "\n",
      "#  Set up numerical data, first find the amount of data points\n",
      "n = len(popdata[:,0])\n",
      "# Initialize array of hares and lynx computed numerically, all zero\n",
      "NumHares = zeros(n)\n",
      "NumLynx  = zeros(n)\n",
      "#  Then define the initial values from least-square fit\n",
      "NumHares[0], NumLynx[0]  =  34.91, 3.857\n",
      "# Define initial time and final time and  time step\n",
      "InitialTime = year[0]\n",
      "FinalTime = year[n-1]\n",
      "# Solve the equations        \n",
      "SolveEquations(year, NumHares, NumLynx, InitialTime, FinalTime, n) \n",
      "axis([1895,1925,0, 100.0])\n",
      "# Put lables on axes\n",
      "xlabel(r'Year',fontsize=20)\n",
      "ylabel(r'Numbers of hares and lynx ',fontsize=20)\n",
      "\n",
      "# Then plot\n",
      "plt.plot(year, hares ,'b-*',   year, lynx, 'r:.', year, NumHares, 'm:v', year, NumLynx, 'k--',  markersize=7)\n",
      "legend(('Hares','Lynx','NumHares', 'NumLynx'),\n",
      "           'upper right', shadow=False, fancybox=False,prop={\"size\":18})\n",
      "legend(loc='upper right')\n",
      "savefig('popnumdata.pdf', format='pdf')\n",
      "\n",
      "plt.show()\n"
     ],
     "language": "python",
     "metadata": {},
     "outputs": [],
     "prompt_number": 1
    },
    {
     "cell_type": "markdown",
     "metadata": {},
     "source": [
      "There is still a small error, most likely the step length is too high, leading to not a number. Needs to be checked.\n",
      "\n",
      "\n",
      "\n",
      "\n",
      "<!-- !split  -->\n",
      "### Example of possible cases, *Predator-Prey* model, the bottom-up approach\n",
      "**Next steps.**\n",
      "\n",
      "* There are several further paths which can be followed.\n",
      "\n",
      " * Include a model for diseases among the predators\n",
      "\n",
      " * Bring concepts from statistics and discuss how to possibly make fits of the data in order to constrain the parameters $\\alpha\\beta\\gamma\\delta$. *We need to figure out if this is premature*.\n",
      "\n",
      " * Move from difference equations to differential equations, would this be meaningful?\n",
      "\n",
      "\n",
      "\n",
      "\n",
      "\n",
      "\n",
      "<!-- !split  -->\n",
      "### Example of possible cases, Genomics\n",
      "* Skal vi si noe om dette ogsaa eller holder det? Her kan vi snakke om feks enkle Markov DNA sekvenser"
     ]
    }
   ],
   "metadata": {}
  }
 ]
}
